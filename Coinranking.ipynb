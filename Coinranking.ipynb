{
 "cells": [
  {
   "cell_type": "code",
   "execution_count": null,
   "id": "9b93f0f8",
   "metadata": {},
   "outputs": [],
   "source": [
    "import requests\n",
    "import pandas as pd\n",
    "\n",
    "url = 'https://api.coinranking.com/v2/'\n",
    "headers = {'x-access-token':'coinranking12ec8723f24db52c87afa83d9331ce0c926e7140e0316cca'}"
   ]
  },
  {
   "cell_type": "markdown",
   "id": "cc41971f",
   "metadata": {},
   "source": [
    "# Coins"
   ]
  },
  {
   "cell_type": "code",
   "execution_count": null,
   "id": "6621b877",
   "metadata": {},
   "outputs": [],
   "source": [
    "coins = pd.DataFrame(requests.get(url+'coins',\n",
    "                                  headers=headers\n",
    "                                 ).json()['data']['coins']\n",
    "                    )\n",
    "\n",
    "coins.set_index('symbol', inplace=True)\n",
    "coins.head().T"
   ]
  },
  {
   "cell_type": "markdown",
   "id": "28db68bf",
   "metadata": {},
   "source": [
    "# Coin"
   ]
  },
  {
   "cell_type": "code",
   "execution_count": null,
   "id": "4060b15b",
   "metadata": {},
   "outputs": [],
   "source": [
    "requests.get(url+'coin/Qwsogvtv82FCd',\n",
    "             headers=headers\n",
    "            ).json()"
   ]
  },
  {
   "cell_type": "markdown",
   "id": "28d1ddd7",
   "metadata": {},
   "source": [
    "# Historical Data"
   ]
  },
  {
   "cell_type": "code",
   "execution_count": null,
   "id": "d5fd34fa",
   "metadata": {},
   "outputs": [],
   "source": [
    "historical = pd.DataFrame(requests.get(url+'coin/Qwsogvtv82FCd/history',\n",
    "                                       headers=headers\n",
    "                                      ).json()['data']['history']\n",
    "                         )\n",
    "historical.head()"
   ]
  },
  {
   "cell_type": "code",
   "execution_count": null,
   "id": "62b523e9",
   "metadata": {},
   "outputs": [],
   "source": [
    "historical['timestamp'] = pd.to_datetime(historical['timestamp'], unit='s')\n",
    "historical"
   ]
  },
  {
   "cell_type": "markdown",
   "id": "07b13a8a",
   "metadata": {},
   "source": [
    "# Coin Supply"
   ]
  },
  {
   "cell_type": "code",
   "execution_count": null,
   "id": "f873d3b2",
   "metadata": {},
   "outputs": [],
   "source": [
    "requests.get(url+'coin/Qwsogvtv82FCd/supply',\n",
    "             headers=headers\n",
    "            ).json()"
   ]
  },
  {
   "cell_type": "markdown",
   "id": "d0c3b37f",
   "metadata": {},
   "source": [
    "# Reference Currencies"
   ]
  },
  {
   "cell_type": "code",
   "execution_count": null,
   "id": "0b841e37",
   "metadata": {},
   "outputs": [],
   "source": [
    "currencies = pd.DataFrame(requests.get(url+'reference-currencies',\n",
    "                                       headers=headers\n",
    "                                      ).json()['data']['currencies']\n",
    "                         )\n",
    "currencies.tail()"
   ]
  },
  {
   "cell_type": "markdown",
   "id": "498c5883",
   "metadata": {},
   "source": [
    "# Global Stats"
   ]
  },
  {
   "cell_type": "code",
   "execution_count": null,
   "id": "c851eef2",
   "metadata": {},
   "outputs": [],
   "source": [
    "requests.get(url+'stats',\n",
    "             headers=headers\n",
    "            ).json()"
   ]
  },
  {
   "cell_type": "markdown",
   "id": "087f92dd",
   "metadata": {},
   "source": [
    "# Search Suggestions"
   ]
  },
  {
   "cell_type": "code",
   "execution_count": null,
   "id": "e294eaae",
   "metadata": {},
   "outputs": [],
   "source": [
    "requests.get(url+'search-suggestions?query=lun',\n",
    "             headers=headers\n",
    "            ).json()"
   ]
  },
  {
   "cell_type": "markdown",
   "id": "6b80c43e",
   "metadata": {},
   "source": [
    "# Indexes"
   ]
  },
  {
   "cell_type": "code",
   "execution_count": null,
   "id": "7de1ee3d",
   "metadata": {},
   "outputs": [],
   "source": [
    "requests.get(url+'indexes/exchanges',\n",
    "             headers=headers\n",
    "            ).json()"
   ]
  },
  {
   "cell_type": "markdown",
   "id": "5009adf2",
   "metadata": {},
   "source": [
    "# NFTs"
   ]
  },
  {
   "cell_type": "code",
   "execution_count": null,
   "id": "67c60445",
   "metadata": {},
   "outputs": [],
   "source": [
    "nfts = pd.DataFrame(requests.get(url+'nfts',\n",
    "                                 headers=headers\n",
    "                                ).json()['data']['nfts']\n",
    "                         )\n",
    "nfts.tail().T"
   ]
  },
  {
   "cell_type": "code",
   "execution_count": null,
   "id": "580f7be6",
   "metadata": {},
   "outputs": [],
   "source": []
  }
 ],
 "metadata": {
  "kernelspec": {
   "display_name": "Python 3 (ipykernel)",
   "language": "python",
   "name": "python3"
  },
  "language_info": {
   "codemirror_mode": {
    "name": "ipython",
    "version": 3
   },
   "file_extension": ".py",
   "mimetype": "text/x-python",
   "name": "python",
   "nbconvert_exporter": "python",
   "pygments_lexer": "ipython3",
   "version": "3.8.8"
  }
 },
 "nbformat": 4,
 "nbformat_minor": 5
}
